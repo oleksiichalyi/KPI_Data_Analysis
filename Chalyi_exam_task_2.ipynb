{
 "cells": [
  {
   "cell_type": "code",
   "execution_count": 135,
   "id": "49fd6464",
   "metadata": {},
   "outputs": [
    {
     "name": "stderr",
     "output_type": "stream",
     "text": [
      "[nltk_data] Downloading package stopwords to /home/kali/nltk_data...\n",
      "[nltk_data]   Package stopwords is already up-to-date!\n"
     ]
    }
   ],
   "source": [
    "import pandas as pd\n",
    "import numpy as np\n",
    "import re\n",
    "import nltk\n",
    "nltk.download('stopwords')\n",
    "from nltk.corpus import stopwords\n",
    "from nltk.tokenize import word_tokenize\n",
    "from sklearn.model_selection import train_test_split\n",
    "from sklearn.preprocessing import LabelEncoder, StandardScaler\n",
    "import tensorflow as tf\n",
    "from tensorflow import keras\n",
    "from tensorflow.keras import layers"
   ]
  },
  {
   "cell_type": "code",
   "execution_count": 136,
   "id": "856740f2",
   "metadata": {},
   "outputs": [
    {
     "name": "stdout",
     "output_type": "stream",
     "text": [
      "16392 Training sequences\n",
      "4099 Validation sequences\n"
     ]
    }
   ],
   "source": [
    "#Implement a Transformer block as a layer\n",
    "class TransformerBlock(layers.Layer):\n",
    "    def __init__(self, embed_dim, num_heads, ff_dim, rate=0.1):\n",
    "        super().__init__()\n",
    "        self.att = layers.MultiHeadAttention(num_heads=num_heads, key_dim=embed_dim)\n",
    "        self.ffn = keras.Sequential(\n",
    "            [layers.Dense(ff_dim, activation=\"relu\"), layers.Dense(embed_dim),]\n",
    "        )\n",
    "        self.layernorm1 = layers.LayerNormalization(epsilon=1e-6)\n",
    "        self.layernorm2 = layers.LayerNormalization(epsilon=1e-6)\n",
    "        self.dropout1 = layers.Dropout(rate)\n",
    "        self.dropout2 = layers.Dropout(rate)\n",
    "    def call(self, inputs, training):\n",
    "        attn_output = self.att(inputs, inputs)\n",
    "        attn_output = self.dropout1(attn_output, training=training)\n",
    "        out1 = self.layernorm1(inputs + attn_output)\n",
    "        ffn_output = self.ffn(out1)\n",
    "        ffn_output = self.dropout2(ffn_output, training=training)\n",
    "        return self.layernorm2(out1 + ffn_output)\n",
    "#Implement embedding layer\n",
    "class TokenAndPositionEmbedding(layers.Layer):\n",
    "    def __init__(self, maxlen, vocab_size, embed_dim):\n",
    "        super().__init__()\n",
    "        self.token_emb = layers.Embedding(input_dim=vocab_size, output_dim=embed_dim)\n",
    "        self.pos_emb = layers.Embedding(input_dim=maxlen, output_dim=embed_dim)\n",
    "\n",
    "    def call(self, x):\n",
    "        maxlen = tf.shape(x)[-1]\n",
    "        positions = tf.range(start=0, limit=maxlen, delta=1)\n",
    "        positions = self.pos_emb(positions)\n",
    "        x = self.token_emb(x)\n",
    "        return x + positions\n",
    "#Cleaning and prepare dataset\n",
    "vocab_size = 20000\n",
    "maxlen = 100 \n",
    "text_data = pd.read_csv(\"/home/kali/Desktop/tripadvisor_hotel_reviews.csv\")\n",
    "stop_words = stopwords.words('english')\n",
    "filtered_text = []\n",
    "for i in text_data[\"Review\"]:\n",
    "    i = re.sub(\"\\d\", \" \", i)\n",
    "    #i = re.sub('[%s]' % re.escape(str.punctuation), ' ', i)\n",
    "    i = re.sub('\\n', ' ', i)\n",
    "    i = re.sub('\\s{2,}', \" \", i)\n",
    "    i = re.sub(\"@\\S+\", \" \", i)\n",
    "    i = re.sub(',(?!\\s+\\d$)', '', i)\n",
    "    i = re.sub(\"https*\\S+\", \" \", i)\n",
    "    i = re.sub(\"#\\S+\", \" \", i)\n",
    "    i = re.sub(\"\\d\", \" \", i)\n",
    "    i = re.sub(\"https*\\S+\", \" \", i)\n",
    "    text_tokens = word_tokenize(i)\n",
    "    for w in text_tokens:\n",
    "        if w not in stop_words:\n",
    "            filtered_text.append(w)\n",
    "x_train, x_val, y_train, y_val = train_test_split(np.array(text_data['Review']), np.array(text_data['Rating']), test_size=0.20)\n",
    "print(len(x_train), \"Training sequences\")\n",
    "print(len(x_val), \"Validation sequences\")\n",
    "x_train = keras.preprocessing.sequence.pad_sequences(x_train, maxlen=maxlen)\n",
    "x_val = keras.preprocessing.sequence.pad_sequences(x_val, maxlen=maxlen)"
   ]
  },
  {
   "cell_type": "code",
   "execution_count": 137,
   "id": "39f35d7d",
   "metadata": {},
   "outputs": [],
   "source": [
    "#Create classifier model using transformer layer\n",
    "embed_dim = 64  \n",
    "num_heads = 3 \n",
    "ff_dim = 64  \n",
    "inputs = layers.Input(shape=(maxlen,))\n",
    "embedding_layer = TokenAndPositionEmbedding(maxlen, vocab_size, embed_dim)\n",
    "x = embedding_layer(inputs)\n",
    "transformer_block = TransformerBlock(embed_dim, num_heads, ff_dim)\n",
    "x = transformer_block(x)\n",
    "x = layers.GlobalAveragePooling1D()(x)\n",
    "x = layers.Dropout(0.1)(x)\n",
    "x = layers.Dense(20, activation=\"relu\")(x)\n",
    "x = layers.Dropout(0.1)(x)\n",
    "outputs = layers.Dense(2, activation=\"softmax\")(x)\n",
    "model = keras.Model(inputs=inputs, outputs=outputs)"
   ]
  },
  {
   "cell_type": "code",
   "execution_count": 138,
   "id": "b22913b3",
   "metadata": {},
   "outputs": [
    {
     "name": "stdout",
     "output_type": "stream",
     "text": [
      "Epoch 1/3\n",
      "391/391 [==============================] - 68s 165ms/step - loss: 0.4377 - accuracy: 0.7862 - val_loss: 0.3520 - val_accuracy: 0.8442\n",
      "Epoch 2/3\n",
      "391/391 [==============================] - 61s 157ms/step - loss: 0.2468 - accuracy: 0.9034 - val_loss: 0.3907 - val_accuracy: 0.8332\n",
      "Epoch 3/3\n",
      "391/391 [==============================] - 61s 157ms/step - loss: 0.1811 - accuracy: 0.9331 - val_loss: 0.4394 - val_accuracy: 0.8372\n"
     ]
    }
   ],
   "source": [
    "#Train and Evaluate\n",
    "model.compile(optimizer=\"adam\", loss=\"sparse_categorical_crossentropy\", metrics=[\"accuracy\"])\n",
    "history = model.fit(\n",
    "    x_train, y_train, batch_size=64, epochs=3, validation_data=(x_val, y_val)\n",
    ")"
   ]
  }
 ],
 "metadata": {
  "kernelspec": {
   "display_name": "Python 3 (ipykernel)",
   "language": "python",
   "name": "python3"
  },
  "language_info": {
   "codemirror_mode": {
    "name": "ipython",
    "version": 3
   },
   "file_extension": ".py",
   "mimetype": "text/x-python",
   "name": "python",
   "nbconvert_exporter": "python",
   "pygments_lexer": "ipython3",
   "version": "3.9.8"
  }
 },
 "nbformat": 4,
 "nbformat_minor": 5
}
